{
 "cells": [
  {
   "cell_type": "code",
   "execution_count": 1,
   "id": "21b958b3",
   "metadata": {},
   "outputs": [],
   "source": [
    "#Import all relevant libraries\n",
    "\n",
    "import numpy as np\n",
    "import pandas as pd\n",
    "import seaborn as sb\n",
    "\n",
    "#scikit-learn parts are imported from individual modules as necessary"
   ]
  },
  {
   "cell_type": "code",
   "execution_count": 2,
   "id": "b12a0919",
   "metadata": {},
   "outputs": [],
   "source": [
    "#Load the dataset \n",
    "\n",
    "mydata = pd.read_csv(\"dataset.csv\", delimiter = ',')"
   ]
  },
  {
   "cell_type": "code",
   "execution_count": 3,
   "id": "bae6f326",
   "metadata": {},
   "outputs": [
    {
     "name": "stdout",
     "output_type": "stream",
     "text": [
      "The first five rows of the dataframe, including headers, are: \n",
      "   Metal Cation  Atomic Number  Electronegativity  Ionic Radius (pm)  \\\n",
      "0          Li+              3               0.98               76.0   \n",
      "1          Na+             11               0.93              102.0   \n",
      "2           K+             19               0.82              138.0   \n",
      "3         Mg2+             12               1.31               72.0   \n",
      "4         Ca2+             20               1.00              100.0   \n",
      "\n",
      "  Oxide Formula Solubility Category  \n",
      "0          Li₂O      Highly Soluble  \n",
      "1          Na₂O      Highly Soluble  \n",
      "2           K₂O      Highly Soluble  \n",
      "3           MgO      Poorly Soluble  \n",
      "4           CaO      Poorly Soluble   \n",
      "\n",
      "The data types within each column are: \n",
      " Metal Cation            object\n",
      "Atomic Number            int64\n",
      "Electronegativity      float64\n",
      "Ionic Radius (pm)      float64\n",
      "Oxide Formula           object\n",
      "Solubility Category     object\n",
      "dtype: object \n",
      "\n",
      "The shape of the dataframe (rows, columns) is:  (90, 6)\n",
      "For a total of 540  number of elements.\n"
     ]
    }
   ],
   "source": [
    "# Display first 5 rows to check properly read dataset       .head(rows)\n",
    "# and let's print some information about the size of the dataframe and the data types within\n",
    "print(\"The first five rows of the dataframe, including headers, are: \\n\", mydata.head(5), \"\\n\")\n",
    "print(\"The data types within each column are: \\n\", mydata.dtypes, \"\\n\")\n",
    "print(\"The shape of the dataframe (rows, columns) is: \", mydata.shape)\n",
    "print(\"For a total of\", mydata.size, \" number of elements.\")\n"
   ]
  },
  {
   "cell_type": "code",
   "execution_count": 8,
   "id": "d3922c33",
   "metadata": {},
   "outputs": [
    {
     "data": {
      "text/html": [
       "<div>\n",
       "<style scoped>\n",
       "    .dataframe tbody tr th:only-of-type {\n",
       "        vertical-align: middle;\n",
       "    }\n",
       "\n",
       "    .dataframe tbody tr th {\n",
       "        vertical-align: top;\n",
       "    }\n",
       "\n",
       "    .dataframe thead th {\n",
       "        text-align: right;\n",
       "    }\n",
       "</style>\n",
       "<table border=\"1\" class=\"dataframe\">\n",
       "  <thead>\n",
       "    <tr style=\"text-align: right;\">\n",
       "      <th></th>\n",
       "      <th>Atomic Number</th>\n",
       "      <th>Electronegativity</th>\n",
       "      <th>Ionic Radius (pm)</th>\n",
       "    </tr>\n",
       "  </thead>\n",
       "  <tbody>\n",
       "    <tr>\n",
       "      <th>count</th>\n",
       "      <td>90.000000</td>\n",
       "      <td>90.000000</td>\n",
       "      <td>90.000000</td>\n",
       "    </tr>\n",
       "    <tr>\n",
       "      <th>mean</th>\n",
       "      <td>50.677778</td>\n",
       "      <td>1.644000</td>\n",
       "      <td>89.316667</td>\n",
       "    </tr>\n",
       "    <tr>\n",
       "      <th>std</th>\n",
       "      <td>25.053125</td>\n",
       "      <td>0.468907</td>\n",
       "      <td>27.629618</td>\n",
       "    </tr>\n",
       "    <tr>\n",
       "      <th>min</th>\n",
       "      <td>3.000000</td>\n",
       "      <td>0.700000</td>\n",
       "      <td>31.000000</td>\n",
       "    </tr>\n",
       "    <tr>\n",
       "      <th>25%</th>\n",
       "      <td>26.250000</td>\n",
       "      <td>1.222500</td>\n",
       "      <td>69.000000</td>\n",
       "    </tr>\n",
       "    <tr>\n",
       "      <th>50%</th>\n",
       "      <td>50.000000</td>\n",
       "      <td>1.655000</td>\n",
       "      <td>86.000000</td>\n",
       "    </tr>\n",
       "    <tr>\n",
       "      <th>75%</th>\n",
       "      <td>75.750000</td>\n",
       "      <td>2.010000</td>\n",
       "      <td>102.000000</td>\n",
       "    </tr>\n",
       "    <tr>\n",
       "      <th>max</th>\n",
       "      <td>89.000000</td>\n",
       "      <td>2.540000</td>\n",
       "      <td>170.000000</td>\n",
       "    </tr>\n",
       "  </tbody>\n",
       "</table>\n",
       "</div>"
      ],
      "text/plain": [
       "       Atomic Number  Electronegativity  Ionic Radius (pm)\n",
       "count      90.000000          90.000000          90.000000\n",
       "mean       50.677778           1.644000          89.316667\n",
       "std        25.053125           0.468907          27.629618\n",
       "min         3.000000           0.700000          31.000000\n",
       "25%        26.250000           1.222500          69.000000\n",
       "50%        50.000000           1.655000          86.000000\n",
       "75%        75.750000           2.010000         102.000000\n",
       "max        89.000000           2.540000         170.000000"
      ]
     },
     "execution_count": 8,
     "metadata": {},
     "output_type": "execute_result"
    }
   ],
   "source": [
    "# Descriptive statitics .describe()\n",
    "mydata.describe()"
   ]
  },
  {
   "cell_type": "code",
   "execution_count": 7,
   "id": "acc62e34",
   "metadata": {},
   "outputs": [
    {
     "data": {
      "text/plain": [
       "<Axes: title={'center': 'Electronegativity - Atomic Number relation'}, ylabel='Frequency'>"
      ]
     },
     "execution_count": 7,
     "metadata": {},
     "output_type": "execute_result"
    },
    {
     "data": {
      "image/png": "[encoded data removed]",
      "text/plain": [
       "<Figure size 640x480 with 1 Axes>"
      ]
     },
     "metadata": {},
     "output_type": "display_data"
    }
   ],
   "source": [
    "# EXPLORATORY ANALYSIS, LET'S HAVE A LOOK\n",
    "mydata.head(2)\n",
    "mydata.plot(x=\"Atomic Number\", y=\"Electronegativity\", kind=\"hist\", title=\"Electronegativity - Atomic Number relation\" )"
   ]
  },
  {
   "cell_type": "code",
   "execution_count": 12,
   "id": "b321108c",
   "metadata": {},
   "outputs": [
    {
     "data": {
      "text/html": [
       "<div>\n",
       "<style scoped>\n",
       "    .dataframe tbody tr th:only-of-type {\n",
       "        vertical-align: middle;\n",
       "    }\n",
       "\n",
       "    .dataframe tbody tr th {\n",
       "        vertical-align: top;\n",
       "    }\n",
       "\n",
       "    .dataframe thead th {\n",
       "        text-align: right;\n",
       "    }\n",
       "</style>\n",
       "<table border=\"1\" class=\"dataframe\">\n",
       "  <thead>\n",
       "    <tr style=\"text-align: right;\">\n",
       "      <th></th>\n",
       "      <th>Metal Cation</th>\n",
       "      <th>Atomic Number</th>\n",
       "      <th>Electronegativity</th>\n",
       "      <th>Ionic Radius (pm)</th>\n",
       "      <th>Oxide Formula</th>\n",
       "      <th>Solubility Category_Highly Soluble</th>\n",
       "      <th>Solubility Category_Poorly Soluble</th>\n",
       "    </tr>\n",
       "  </thead>\n",
       "  <tbody>\n",
       "    <tr>\n",
       "      <th>0</th>\n",
       "      <td>Li+</td>\n",
       "      <td>3</td>\n",
       "      <td>0.98</td>\n",
       "      <td>76.0</td>\n",
       "      <td>Li₂O</td>\n",
       "      <td>True</td>\n",
       "      <td>False</td>\n",
       "    </tr>\n",
       "    <tr>\n",
       "      <th>1</th>\n",
       "      <td>Na+</td>\n",
       "      <td>11</td>\n",
       "      <td>0.93</td>\n",
       "      <td>102.0</td>\n",
       "      <td>Na₂O</td>\n",
       "      <td>True</td>\n",
       "      <td>False</td>\n",
       "    </tr>\n",
       "    <tr>\n",
       "      <th>2</th>\n",
       "      <td>K+</td>\n",
       "      <td>19</td>\n",
       "      <td>0.82</td>\n",
       "      <td>138.0</td>\n",
       "      <td>K₂O</td>\n",
       "      <td>True</td>\n",
       "      <td>False</td>\n",
       "    </tr>\n",
       "    <tr>\n",
       "      <th>3</th>\n",
       "      <td>Mg2+</td>\n",
       "      <td>12</td>\n",
       "      <td>1.31</td>\n",
       "      <td>72.0</td>\n",
       "      <td>MgO</td>\n",
       "      <td>False</td>\n",
       "      <td>True</td>\n",
       "    </tr>\n",
       "    <tr>\n",
       "      <th>4</th>\n",
       "      <td>Ca2+</td>\n",
       "      <td>20</td>\n",
       "      <td>1.00</td>\n",
       "      <td>100.0</td>\n",
       "      <td>CaO</td>\n",
       "      <td>False</td>\n",
       "      <td>True</td>\n",
       "    </tr>\n",
       "  </tbody>\n",
       "</table>\n",
       "</div>"
      ],
      "text/plain": [
       "  Metal Cation  Atomic Number  Electronegativity  Ionic Radius (pm)  \\\n",
       "0          Li+              3               0.98               76.0   \n",
       "1          Na+             11               0.93              102.0   \n",
       "2           K+             19               0.82              138.0   \n",
       "3         Mg2+             12               1.31               72.0   \n",
       "4         Ca2+             20               1.00              100.0   \n",
       "\n",
       "  Oxide Formula  Solubility Category_Highly Soluble  \\\n",
       "0          Li₂O                                True   \n",
       "1          Na₂O                                True   \n",
       "2           K₂O                                True   \n",
       "3           MgO                               False   \n",
       "4           CaO                               False   \n",
       "\n",
       "   Solubility Category_Poorly Soluble  \n",
       "0                               False  \n",
       "1                               False  \n",
       "2                               False  \n",
       "3                                True  \n",
       "4                                True  "
      ]
     },
     "execution_count": 12,
     "metadata": {},
     "output_type": "execute_result"
    }
   ],
   "source": [
    "#I believe it would be good to hot-one encode the solubility category\n",
    "mydata_hotOne = pd.get_dummies(data = mydata, columns=['Solubility Category'] )\n",
    "mydata_hotOne.head(5)\n"
   ]
  }
 ],
 "metadata": {
  "kernelspec": {
   "display_name": "Python 3",
   "language": "python",
   "name": "python3"
  },
  "language_info": {
   "codemirror_mode": {
    "name": "ipython",
    "version": 3
   },
   "file_extension": ".py",
   "mimetype": "text/x-python",
   "name": "python",
   "nbconvert_exporter": "python",
   "pygments_lexer": "ipython3",
   "version": "3.12.9"
  }
 },
 "nbformat": 4,
 "nbformat_minor": 5
}
